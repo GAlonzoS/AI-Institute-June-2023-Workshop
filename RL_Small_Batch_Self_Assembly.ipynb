{
  "cells": [
    {
      "cell_type": "markdown",
      "metadata": {
        "id": "view-in-github",
        "colab_type": "text"
      },
      "source": [
        "<a href=\"https://colab.research.google.com/github/GAlonzoS/AI-Institute-June-2023-Workshop/blob/main/RL_Small_Batch_Self_Assembly.ipynb\" target=\"_parent\"><img src=\"https://colab.research.google.com/assets/colab-badge.svg\" alt=\"Open In Colab\"/></a>"
      ]
    },
    {
      "cell_type": "markdown",
      "metadata": {
        "id": "6H-YhKnU1NnN"
      },
      "source": [
        "## Imports and dependencies"
      ]
    },
    {
      "cell_type": "code",
      "execution_count": null,
      "metadata": {
        "id": "YFRZUNG71NA9"
      },
      "outputs": [],
      "source": [
        "-%%capture\n",
        "# Install dependents libraries\n",
        "!sudo apt-get update\n",
        "!sudo apt-get install -y xvfb ffmpeg freeglut3-dev\n",
        "!pip install 'imageio==2.4.0'\n",
        "#!pip install pyvirtualdisplay\n",
        "#!pip install tf-agents[reverb]\n",
        "#!pip install pyglet\n",
        "#!pip install tensorflow\n",
        "\n",
        "!pip install -q git+https://www.github.com/google/jax-md\n",
        "!pip install --upgrade pip\n",
        "!pip install --upgrade \"jax[cpu]\"\n",
        "!pip install --upgrade \"jax[cuda]\" -f https://storage.googleapis.com/jax-releases/jax_cuda_releases.html\n"
      ]
    },
    {
      "cell_type": "code",
      "execution_count": null,
      "metadata": {
        "id": "Xr9ohP4K1TNs"
      },
      "outputs": [],
      "source": [
        "#Assign Library Calls\n",
        "\n",
        "import time\n",
        "import functools\n",
        "import freud\n",
        "import base64\n",
        "import IPython\n",
        "import matplotlib\n",
        "import matplotlib.pyplot as plt\n",
        "import numpy as np\n",
        "import PIL.Image\n",
        "\n",
        "from jax.config import config\n",
        "config.update('jax_enable_x64', True)\n",
        "import jax.numpy as jnp\n",
        "from jax.scipy import ndimage\n",
        "from jax import jit, grad, value_and_grad, tree_map, vmap, random, lax, ops, remat\n",
        "from jax_md import space, minimize, simulate, energy, quantity, smap, dataclasses, rigid_body\n",
        "from jax.example_libraries import stax\n",
        "from jax.example_libraries import optimizers\n",
        "from jax_md.util import *\n",
        "from jax_md import dataclasses\n",
        "from functools import partial\n",
        "from typing import Optional, Tuple, Dict, Callable, List, Union\n",
        "import jax\n",
        "from jax_md import util\n",
        "\n",
        "from jax_md.colab_tools import renderer\n",
        "Array = util.Array\n",
        "f64 = util.f64\n",
        "import argparse\n",
        "import os\n",
        "from pathlib import Path\n",
        "from google.colab import files"
      ]
    },
    {
      "cell_type": "markdown",
      "metadata": {
        "id": "mvKY4gUdvY72"
      },
      "source": [
        "## Check hardware and software"
      ]
    },
    {
      "cell_type": "code",
      "execution_count": null,
      "metadata": {
        "colab": {
          "base_uri": "https://localhost:8080/"
        },
        "id": "ZuClzo5ZvWC0",
        "outputId": "d06c49d0-8029-4994-ae13-4dc2c3f2402f"
      },
      "outputs": [
        {
          "output_type": "stream",
          "name": "stdout",
          "text": [
            "/bin/bash: nvidia-smi: command not found\n"
          ]
        }
      ],
      "source": [
        "!nvidia-smi"
      ]
    },
    {
      "cell_type": "code",
      "execution_count": null,
      "metadata": {
        "id": "hw2gdxKbQTKJ"
      },
      "outputs": [],
      "source": [
        "def format_plot(x, y):\n",
        "  plt.xlabel(x, fontsize=20)\n",
        "  plt.ylabel(y, fontsize=20)\n",
        "\n",
        "def finalize_plot(shape=(1, 1)):\n",
        "  plt.gcf().set_size_inches(\n",
        "    shape[0] * 1.5 * plt.gcf().get_size_inches()[1],\n",
        "    shape[1] * 1.5 * plt.gcf().get_size_inches()[1])\n",
        "  plt.tight_layout()\n",
        "\n",
        "f32 = np.float32\n",
        "f64 = np.float64\n",
        "\n",
        "def draw_system(R, box_size, marker_size, color=None):\n",
        "  if color == None:\n",
        "    color = [64 / 256] * 3\n",
        "  ms = marker_size / box_size\n",
        "\n",
        "  R = jnp.array(R)\n",
        "\n",
        "  marker_style = dict(\n",
        "      linestyle='none',\n",
        "      markeredgewidth=3,\n",
        "      marker='o',\n",
        "      markersize=ms,\n",
        "      color=color,\n",
        "      fillstyle='none')\n",
        "\n",
        "  plt.plot(R[:, 0], R[:, 1], **marker_style)\n",
        "  plt.plot(R[:, 0] + box_size, R[:, 1], **marker_style)\n",
        "  plt.plot(R[:, 0], R[:, 1] + box_size, **marker_style)\n",
        "  plt.plot(R[:, 0] + box_size, R[:, 1] + box_size, **marker_style)\n",
        "  plt.plot(R[:, 0] - box_size, R[:, 1], **marker_style)\n",
        "  plt.plot(R[:, 0], R[:, 1] - box_size, **marker_style)\n",
        "  plt.plot(R[:, 0] - box_size, R[:, 1] - box_size, **marker_style)\n",
        "\n",
        "  plt.xlim([0, box_size])\n",
        "  plt.ylim([0, box_size])\n",
        "  plt.axis('off')\n",
        "\n",
        "\n",
        "def plot_pos_now(state):\n",
        "  ms = 65 #marker size\n",
        "\n",
        "  R_plt = np.array(state.position)\n",
        "\n",
        "  plt.plot(R_plt[:,0],R_plt[:,1], 'o', markersize=ms*0.5)\n",
        "\n",
        "\n",
        "  plt.xlim([0, np.max(R_plt[:, 0])])\n",
        "  plt.ylim([0, np.max(R_plt[:, 1])])\n",
        "\n",
        "  plt.axis('off')\n",
        "\n",
        "  finalize_plot((1, 1))"
      ]
    },
    {
      "cell_type": "markdown",
      "source": [
        "Functions for Shapes"
      ],
      "metadata": {
        "id": "uKWw0eZ4Gz0Z"
      }
    },
    {
      "cell_type": "code",
      "source": [
        "def square_lattice(N, box_size):\n",
        "  Nx = int(np.sqrt(N))\n",
        "  Ny, ragged = divmod(N, Nx)\n",
        "  if Ny != Nx or ragged:\n",
        "    assert ValueError('Particle count should be a square. Found {}.'.format(N))\n",
        "  length_scale = box_size / Nx\n",
        "  R = []\n",
        "  for i in range(Nx):\n",
        "    for j in range(Ny):\n",
        "      R.append([i * length_scale, j * length_scale])\n",
        "  return np.array(R)\n",
        "\n",
        "def make_square_shape(center_rad):\n",
        "  square_shape = jnp.array([[0.,0.],[0. 2*center_rad],\n",
        "                            [2*center_rad, 0.],\n",
        "                            [2*center_rad,2*center_rad]])\n",
        "  return square_shape\n",
        "\n",
        "def make_square_circle(center_rad):\n",
        "  ring_shape = 2*center_rad * jnp.array([[0., 0.],\n",
        "                                                [1., 0.],\n",
        "                                                [2., 0.],\n",
        "                                                [2., 1.],\n",
        "                                                [2., 2.],\n",
        "                                                [1., 2.],\n",
        "                                                [0., 2.],\n",
        "                                                [0., 1.]\n",
        "                                                ])\n",
        "  return ring_shape\n",
        "\n",
        "def make_triangle(center_rad):\n",
        "  triangle_shape = 2*center_rad * jnp.array([[0., 0.],\n",
        "                                                 [1., 0.],\n",
        "                                                 [0.5, jnp.sqrt(3)/2.]])\n",
        "  return triangle_shape\n",
        "\n"
      ],
      "metadata": {
        "id": "Giu1cqcqGzQW"
      },
      "execution_count": null,
      "outputs": []
    },
    {
      "cell_type": "code",
      "execution_count": null,
      "metadata": {
        "id": "1W2bF2yGifdr"
      },
      "outputs": [],
      "source": [
        "def my_render(box_size, states):\n",
        "\n",
        "  renderer.render(box_size,\n",
        "                renderer.Disk(states),\n",
        "                resolution=(700, 700))\n",
        "def plot_average_over_time(data):\n",
        "    averages = []\n",
        "    cumulative_sum = 0\n",
        "\n",
        "    for i, value in enumerate(data):\n",
        "        cumulative_sum += value\n",
        "        average = cumulative_sum / (i + 1)  # Calculate average up to current point\n",
        "        averages.append(average)\n",
        "\n",
        "    # Plotting\n",
        "    plt.plot(t, averages, linewidth = 4)"
      ]
    },
    {
      "cell_type": "markdown",
      "metadata": {
        "id": "9W2KUSiKUOrP"
      },
      "source": [
        "# Morse Potential Simulation"
      ]
    },
    {
      "cell_type": "code",
      "execution_count": null,
      "metadata": {
        "id": "ot6qZDHqUSXB"
      },
      "outputs": [],
      "source": [
        "#Sim Setup param\n",
        "N = 4 #number of particles\n",
        "dimension = 2\n",
        "density = .2\n",
        "sigma = .5\n",
        "vol = quantity.particle_volume(radii = sigma, spatial_dimension = dimension, particle_count = N)\n",
        "box_size  = np.sqrt(N*(np.pi *.5**2 / vol)/(density/vol))\n",
        "\n",
        "dt = 5e-4\n",
        "displacement, shift = space.periodic(box_size)\n",
        "kT = .4\n",
        "epsilon = 2*(1. - jnp.eye(N)) #interaction matrix\n",
        "\n",
        "batch_size = 12\n",
        "filename = 'square_opt'\n",
        "center_radius = floor(box_size/5)\n",
        "\n",
        "steps = 100000\n",
        "write_every = 1000\n",
        "\n",
        "print(box_size)"
      ]
    },
    {
      "cell_type": "code",
      "execution_count": null,
      "metadata": {
        "id": "L7KpjByVUykV"
      },
      "outputs": [],
      "source": [
        "key = random.PRNGKey(0)\n",
        "key, split = random.split(key)"
      ]
    },
    {
      "cell_type": "code",
      "source": [
        "def create_species(N,k):\n",
        "  array_length = max(N, k)\n",
        "  spec_list = np.arange(array_length) % (k)\n",
        "  return np.sort(spec_list)\n",
        "\n",
        "species = create_species(N,4)"
      ],
      "metadata": {
        "id": "teJAafwO3J9b"
      },
      "execution_count": null,
      "outputs": []
    },
    {
      "cell_type": "code",
      "source": [
        "target_shape = make_square_shape(center_radius)"
      ],
      "metadata": {
        "id": "iGNr5iNuJ95f"
      },
      "execution_count": null,
      "outputs": []
    },
    {
      "cell_type": "code",
      "source": [
        "#implement this later\n",
        "def make_patch_particle(patch_num, patch_loc, patch_epsilon):\n",
        "\n",
        "  return\n"
      ],
      "metadata": {
        "id": "CGTgxt9aj8lQ"
      },
      "execution_count": null,
      "outputs": []
    },
    {
      "cell_type": "code",
      "execution_count": null,
      "metadata": {
        "id": "OSz3AzRKU35g"
      },
      "outputs": [],
      "source": [
        "energy_fn = energy.soft_sphere_pair(displacement,species=species, sigma=sigma, epsilon = epsilon)\n",
        "init, gapply = simulate.nvt_nose_hoover(energy_fn, shift, dt, kT)  #same as above\n",
        "Rcheck = square_lattice(N, box_size)\n",
        "gstate = init(key,Rcheck)\n"
      ]
    },
    {
      "cell_type": "code",
      "execution_count": null,
      "metadata": {
        "id": "1wkDcQisV6MO"
      },
      "outputs": [],
      "source": [
        "def get_BOO(displacement_all, k=6):\n",
        "\n",
        "  def weight(r, r0=1.1, alpha=10):\n",
        "    return jnp.where(r<1e-7, 0., 1.0/(1 + jnp.exp(alpha*(r - r0))))\n",
        "\n",
        "  i_imaginary = complex(0,1)\n",
        "  def get_ylms(dR_ij):\n",
        "    epsilon = 0.00001 #avoids nan in derivative\n",
        "    dR_ij = jnp.where(dR_ij==0.0, epsilon, dR_ij)\n",
        "    theta = jnp.arctan2(dR_ij[1], dR_ij[0])\n",
        "    return jnp.exp(i_imaginary*k*theta)\n",
        "\n",
        "  def calculate_order_param(R):\n",
        "    v_get_ylms = vmap(vmap(get_ylms))\n",
        "    ds = displacement_all(R, R)\n",
        "    r = space.distance(ds)\n",
        "    w = weight(r)\n",
        "    q_6m = (jnp.sum(v_get_ylms(ds)*w, axis=0)/(jnp.sum(w, axis=0)+0.00001))\n",
        "    return jnp.abs(jnp.mean(q_6m))\n",
        "\n",
        "  return calculate_order_param\n",
        "\n",
        "#displacement_all = vmap(vmap(displacement, (0, None), 0), (None, 0), 0)\n",
        "#order_param_fn = get_BOO(displacement_all, k=6)"
      ]
    },
    {
      "cell_type": "code",
      "source": [
        "def initial_setup(e, key):\n",
        "\n",
        "  #Set up simulation parameters\n",
        "  displacement, shift = space.periodic(box_size)\n",
        "\n",
        "  #Set a random initial state\n",
        "  key, split = random.split(key)\n",
        "\n",
        "  #Random Positions\n",
        "  R = box_size * random.uniform(split, (N,dimension), dtype=np.float64)\n",
        "\n",
        "\n",
        "  #Compile the dynamics\n",
        "  energy_fn = energy.soft_sphere_pair(displacement, species=species, sigma=sigma, epsilon = e)\n",
        "  init, apply = simulate.nvt_nose_hoover(energy_fn, shift, dt, kT)  #not sure if I really need this part but it does not appear to slow things down\n",
        "\n",
        "  #Generate the initial state\n",
        "  state = init(key,R)\n",
        "\n",
        "  #Run the dynamics\n",
        "  log = {\n",
        "      'kT': np.zeros((steps,)),\n",
        "      'H': np.zeros((steps,)),\n",
        "      'position': np.zeros((steps // write_every,) + R.shape),\n",
        "      'Psi_K': np.zeros((steps // write_every, N)),\n",
        "      'Avg_Psi_K': np.zeros((steps // write_every,))\n",
        "  }\n",
        "\n",
        "  #state, log = lax.fori_loop(0, steps, step_fn, (state, log))\n",
        "  return state.position,  log"
      ],
      "metadata": {
        "id": "g4lN8RfQowhb"
      },
      "execution_count": null,
      "outputs": []
    },
    {
      "cell_type": "code",
      "source": [
        "def mydynamics(R,e, log, key):\n",
        "\n",
        "  #Set up simulation parameters\n",
        "  displacement, shift = space.periodic(box_size)\n",
        "\n",
        "  #Compile the dynamics\n",
        "  energy_fn = energy.soft_sphere_pair(displacement, species=species, sigma=sigma, epsilon = e)\n",
        "  init, apply = simulate.nvt_nose_hoover(energy_fn, shift, dt, kT)  #same as above\n",
        "  key, split = random.split(key)\n",
        "  apply = jit(apply)\n",
        "  state = init(split, R)\n",
        "\n",
        "\n",
        "  #Compute the order parameter\n",
        "  displacement_all = vmap(vmap(displacement, (0, None), 0), (None, 0), 0)\n",
        "  order_param_fn = get_BOO(displacement_all, k=6)\n",
        "\n",
        "\n",
        "  def step_fn(i, state_and_log):\n",
        "    state,log = state_and_log\n",
        "\n",
        "    t = i*dt\n",
        "\n",
        "    # Log information about the simulation\n",
        "    T = quantity.temperature(momentum=state.momentum)\n",
        "    log['kT'] = log['kT'].at[i].set(T)\n",
        "\n",
        "    H = simulate.nvt_nose_hoover_invariant(energy_fn,state,kT)\n",
        "    log['H'] = log['H'].at[i].set(H)\n",
        "\n",
        "    log['position'] = lax.cond(i % write_every ==0,\n",
        "                              lambda p:\\\n",
        "                              p.at[i// write_every].set(state.position), #this is a floor, keep p at every write_every'th step\n",
        "                              lambda p:p,\n",
        "                              log['position'])\n",
        "    r = state.position.reshape(N,dimension)\n",
        "    _psi_k = order_param_fn(r)\n",
        "    log['Psi_K'] = lax.cond(i % write_every == 0,\n",
        "                            lambda w:\\\n",
        "                            w.at[i// write_every].set(_psi_k),\n",
        "                            lambda w:w,\n",
        "                            log['Psi_K'])\n",
        "\n",
        "    _avg_Psi_K = jnp.mean(_psi_k)\n",
        "    log['Avg_Psi_K'] = lax.cond(i % write_every == 0,\n",
        "                            lambda v:\\\n",
        "                            v.at[i// write_every].set(_avg_Psi_K),\n",
        "                            lambda v:v,\n",
        "                            log['Avg_Psi_K'])\n",
        "\n",
        "    #Take a simulation step\n",
        "    state = apply(state, kT=kT)\n",
        "    return state, log\n",
        "\n",
        "  #Run the dynamics\n",
        "\n",
        "  sim_steps = jnp.arange(steps)\n",
        "  state, log = lax.fori_loop(0, steps, step_fn, (state, log))\n",
        "\n",
        "  return state, log"
      ],
      "metadata": {
        "id": "8MmL8D152-eb"
      },
      "execution_count": null,
      "outputs": []
    },
    {
      "cell_type": "code",
      "source": [
        "  #might not be needed\n",
        "  def my_loss_function(x_k, x_goal):\n",
        "    myloss = np.sqrt(jnp.mean(order_param_fn(x_k))**2 - jnp.mean(order_param_fn(x_goal))**2)\n",
        "    return myloss"
      ],
      "metadata": {
        "id": "TV4gve3eEStb"
      },
      "execution_count": null,
      "outputs": []
    },
    {
      "cell_type": "markdown",
      "source": [
        "This part is already taken care of in the dynamics function. I probably do not need this.... maybe"
      ],
      "metadata": {
        "id": "oRnKX-MGzIby"
      }
    },
    {
      "cell_type": "code",
      "source": [
        "target_rate = 100.0\n",
        "# interaction matrix is epsilon\n",
        "# Not sure what endpoints are, I will assume it is the position of the particles?\n",
        "@jit\n",
        "def compute_path(interaction_matrix, endpoints):\n",
        "  DNEB_results = run_DNEB(endpoints, interaction_matrix)\n",
        "  path_positions, path_energies = DNEB_results\n",
        "  return path_positions, path_energies\n",
        "\n",
        "@jit\n",
        "def compute_loss(interaction_matrix, target_rate, path_positions):\n",
        "  path_energies = vmap(energy_fn, (0, None))(path_positions, interaction_matrix)\n",
        "  measured_rate = calc_transition_rate(path_energies, kT)\n",
        "  return (target_rate - measured_rate)**2"
      ],
      "metadata": {
        "id": "BTbzhf1CzH7c"
      },
      "execution_count": null,
      "outputs": []
    },
    {
      "cell_type": "code",
      "source": [
        "grad_compute_loss = value_and_grad(compute_loss, 0)"
      ],
      "metadata": {
        "id": "RDxb17D1r4Ah"
      },
      "execution_count": null,
      "outputs": []
    },
    {
      "cell_type": "code",
      "execution_count": null,
      "metadata": {
        "id": "5Oq7fexRVGzb"
      },
      "outputs": [],
      "source": [
        "opt_steps = 100\n",
        "lr_steps = opt_steps // 3\n",
        "learning_rates = jnp.array([0.01] * lr_steps + [0.001] * 2*lr_steps)\n",
        "learning_rate = lambda t: learning_rates[t]\n",
        "\n",
        "# Choose an optimizer (or write your own!)\n",
        "opt_init, opt_update, get_params = optimizers.adam(step_size=learning_rate)\n",
        "\n",
        "'''\n",
        "Given the current state of an optimizer and the gradient, update the parameters\n",
        "'''\n",
        "def opt_step(i, opt_state, endpoints):\n",
        "    params = get_params(opt_state)\n",
        "    lossval, gradval = grad_compute_loss(params, target_rate, gstate.position)\n",
        "    print(\"Loss: {}\".format(lossval))\n",
        "    # print(\"Parameters: {}\".format(params))\n",
        "    # print(\"Gradient: {}\".format(gradval))\n",
        "    return opt_update(i, gradval, opt_state), params, lossval"
      ]
    },
    {
      "cell_type": "code",
      "source": [
        "################ Loss function ##################\n",
        "\n",
        "def get_desired_dists(ref_shape):\n",
        "  displacement, shift = space.periodic(box_size)\n",
        "  vdisp = space.map_product(displacement)\n",
        "  ds = vdisp(ref_shape, ref_shape)\n",
        "  dists = jnp.sort(space.distance(ds))\n",
        "  return dists\n",
        "\n",
        "REF_DISTS = get_desired_dists(target_shape)\n",
        "\n",
        "@jit\n",
        "def sys_loss(R):\n",
        "  displacement, shift = space.periodic(box_size)\n",
        "  vdisp = space.map_product(displacement)\n",
        "  ds = jnp.sort(space.distance(vdisp(R, R)))\n",
        "  subtract = lambda R, Rref: R - Rref\n",
        "  v_subtract = space.map_product(subtract)\n",
        "  diffs = v_subtract(ds[:, :len(REF_SHAPE)], REF_DISTS)\n",
        "  nearest_nbrs_match_ref_dist = jnp.min(jnp.linalg.norm(diffs, axis=-1), axis=0)\n",
        "  other_nbrs_far = ds[:, REF_SHAPE_SIZE:CLOSENESS_PENALTY_NEIGHBORS + REF_SHAPE_SIZE]\n",
        "  return jnp.sum(nearest_nbrs_match_ref_dist) - CLOSENESS_PENALTY * jnp.mean(other_nbrs_far)\n",
        "\n",
        "v_loss = vmap(sys_loss)\n",
        "\n",
        "\n",
        "@jit\n",
        "def avg_loss(R_batched):\n",
        "  losses = v_loss(R_batched)\n",
        "  return jnp.mean(losses)"
      ],
      "metadata": {
        "id": "CRf9-dVToweY"
      },
      "execution_count": null,
      "outputs": []
    },
    {
      "cell_type": "code",
      "source": [
        "opt_state = opt_init(epsilon)\n",
        "endpoints = jnp.array(gstate.position) # Make this function of N points in a square lattice?\n",
        "params = epsilon\n",
        "best_params = params\n",
        "min_loss = jnp.inf\n",
        "\n",
        "for i in range(opt_steps):\n",
        "  # Recompute the DNEB path periodically rather than every step\n",
        "  # to save compute time\n",
        "  if i % 5 == 0:\n",
        "      path_positions, path_energies, compute_path(params, endpoints)\n",
        "      endpoints = jnp.array([path_positions[0], path_positions[-1]])\n",
        "  opt_state, new_params, loss = opt_step(i, opt_state, endpoints)\n",
        "  if loss < min_loss:\n",
        "    min_loss = loss\n",
        "    best_params = params\n",
        "  params = new_params\n",
        "\n",
        "  if i % (opt_steps // 3) == 0:\n",
        "    opt_state = opt_init(best_params)\n",
        "    params = best_params\n",
        "\n",
        "print('Minimum loss value: ', min_loss)"
      ],
      "metadata": {
        "id": "nCeECH2Qr1HS",
        "colab": {
          "base_uri": "https://localhost:8080/",
          "height": 235
        },
        "outputId": "d114bf06-c496-4b1f-c9a9-72c4ed6d0371"
      },
      "execution_count": null,
      "outputs": [
        {
          "output_type": "error",
          "ename": "NameError",
          "evalue": "ignored",
          "traceback": [
            "\u001b[0;31m---------------------------------------------------------------------------\u001b[0m",
            "\u001b[0;31mNameError\u001b[0m                                 Traceback (most recent call last)",
            "\u001b[0;32m<ipython-input-18-b913312dfc73>\u001b[0m in \u001b[0;36m<cell line: 7>\u001b[0;34m()\u001b[0m\n\u001b[1;32m      9\u001b[0m   \u001b[0;31m# to save compute time\u001b[0m\u001b[0;34m\u001b[0m\u001b[0;34m\u001b[0m\u001b[0m\n\u001b[1;32m     10\u001b[0m   \u001b[0;32mif\u001b[0m \u001b[0mi\u001b[0m \u001b[0;34m%\u001b[0m \u001b[0;36m5\u001b[0m \u001b[0;34m==\u001b[0m \u001b[0;36m0\u001b[0m\u001b[0;34m:\u001b[0m\u001b[0;34m\u001b[0m\u001b[0;34m\u001b[0m\u001b[0m\n\u001b[0;32m---> 11\u001b[0;31m       \u001b[0mpath_positions\u001b[0m\u001b[0;34m,\u001b[0m \u001b[0mpath_energies\u001b[0m\u001b[0;34m,\u001b[0m \u001b[0mcompute_path\u001b[0m\u001b[0;34m(\u001b[0m\u001b[0mparams\u001b[0m\u001b[0;34m,\u001b[0m \u001b[0mendpoints\u001b[0m\u001b[0;34m)\u001b[0m\u001b[0;34m\u001b[0m\u001b[0;34m\u001b[0m\u001b[0m\n\u001b[0m\u001b[1;32m     12\u001b[0m       \u001b[0mendpoints\u001b[0m \u001b[0;34m=\u001b[0m \u001b[0mjnp\u001b[0m\u001b[0;34m.\u001b[0m\u001b[0marray\u001b[0m\u001b[0;34m(\u001b[0m\u001b[0;34m[\u001b[0m\u001b[0mpath_positions\u001b[0m\u001b[0;34m[\u001b[0m\u001b[0;36m0\u001b[0m\u001b[0;34m]\u001b[0m\u001b[0;34m,\u001b[0m \u001b[0mpath_positions\u001b[0m\u001b[0;34m[\u001b[0m\u001b[0;34m-\u001b[0m\u001b[0;36m1\u001b[0m\u001b[0;34m]\u001b[0m\u001b[0;34m]\u001b[0m\u001b[0;34m)\u001b[0m\u001b[0;34m\u001b[0m\u001b[0;34m\u001b[0m\u001b[0m\n\u001b[1;32m     13\u001b[0m   \u001b[0mopt_state\u001b[0m\u001b[0;34m,\u001b[0m \u001b[0mnew_params\u001b[0m\u001b[0;34m,\u001b[0m \u001b[0mloss\u001b[0m \u001b[0;34m=\u001b[0m \u001b[0mopt_step\u001b[0m\u001b[0;34m(\u001b[0m\u001b[0mi\u001b[0m\u001b[0;34m,\u001b[0m \u001b[0mopt_state\u001b[0m\u001b[0;34m,\u001b[0m \u001b[0mendpoints\u001b[0m\u001b[0;34m)\u001b[0m\u001b[0;34m\u001b[0m\u001b[0;34m\u001b[0m\u001b[0m\n",
            "\u001b[0;31mNameError\u001b[0m: name 'path_positions' is not defined"
          ]
        }
      ]
    },
    {
      "cell_type": "code",
      "execution_count": null,
      "metadata": {
        "id": "VBkHvZARV9_y"
      },
      "outputs": [],
      "source": [
        "opt_steps = 100\n",
        "lr_steps = opt_steps // 3\n",
        "learning_rates = jnp.array([0.01] * lr_steps + [0.001] * 2*lr_steps)"
      ]
    },
    {
      "cell_type": "code",
      "source": [],
      "metadata": {
        "id": "f89WYf2sowOn"
      },
      "execution_count": null,
      "outputs": []
    },
    {
      "cell_type": "code",
      "source": [],
      "metadata": {
        "id": "6OK_uuISowL7"
      },
      "execution_count": null,
      "outputs": []
    },
    {
      "cell_type": "code",
      "source": [],
      "metadata": {
        "id": "zm5kEBtrowJK"
      },
      "execution_count": null,
      "outputs": []
    }
  ],
  "metadata": {
    "colab": {
      "provenance": [],
      "authorship_tag": "ABX9TyPZccmgVAiPuvBWnUFmL6dn",
      "include_colab_link": true
    },
    "kernelspec": {
      "display_name": "Python 3",
      "name": "python3"
    },
    "language_info": {
      "name": "python"
    }
  },
  "nbformat": 4,
  "nbformat_minor": 0
}